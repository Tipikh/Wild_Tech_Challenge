{
 "cells": [
  {
   "cell_type": "markdown",
   "id": "94bd162c",
   "metadata": {},
   "source": [
    "# Ma Soumission au Wild Tech Challenge\n",
    "\n",
    "\n"
   ]
  },
  {
   "cell_type": "markdown",
   "id": "c132bb4e",
   "metadata": {},
   "source": [
    "## 1. Import des packages nécessaires"
   ]
  },
  {
   "cell_type": "code",
   "execution_count": 3,
   "id": "3051b348",
   "metadata": {},
   "outputs": [],
   "source": [
    "import mysql.connector\n",
    "import requests\n",
    "from progressbar import ProgressBar\n",
    "from pandas import DataFrame"
   ]
  },
  {
   "cell_type": "markdown",
   "id": "9d3a1b75",
   "metadata": {},
   "source": [
    "## 2. Connexion à la Base de données et récupération de la liste d'addresses  "
   ]
  },
  {
   "cell_type": "code",
   "execution_count": 4,
   "id": "0937c378",
   "metadata": {},
   "outputs": [
    {
     "name": "stdout",
     "output_type": "stream",
     "text": [
      "562\n"
     ]
    }
   ],
   "source": [
    "connection_params = {\n",
    "    'host': \"localhost\",\n",
    "    'user': \"root\",\n",
    "    'password': \"root\",\n",
    "    'database': \"dataengineer\",\n",
    "}\n",
    "\n",
    "# Request address datas\n",
    "request = \"SELECT * FROM address  \"\n",
    "\n",
    "with mysql.connector.connect(**connection_params) as db:\n",
    "    with db.cursor() as c:\n",
    "        c.execute(request)\n",
    "        address_list = c.fetchall()\n",
    "        print(len(address_list))\n"
   ]
  },
  {
   "cell_type": "code",
   "execution_count": 13,
   "id": "92adcd24",
   "metadata": {},
   "outputs": [
    {
     "name": "stdout",
     "output_type": "stream",
     "text": [
      "318 CHE DE ROUMAGOUA, LA CIOTAT, 13600\n",
      "19 RUE DES DAMES, SAINTE SAVINE, 10300\n",
      "22 RUE AMIRAL GUEPRATTE, LE CONQUET, 29217\n",
      "6 BD DES ETINES, LE COTEAU, 42120\n",
      "35 AV DU 159EME RIA, BRIANCON, 5100\n",
      "36 RUE D EN HAUT, BRUNEMONT, 59151\n",
      "1625 RTE DE CHAMBERY, SAINT-ISMIER, 38330\n",
      "3 RUE MONTESQUIEU, ASNIERES-SUR-SEINE, 92600\n",
      "35 RUE PORTE ST JEAN, ORLEANS, 45000\n",
      "67 BD COMMANDANT CHARCOT, NEUILLY-SUR-SEINE, 92200\n"
     ]
    }
   ],
   "source": [
    "# Print 10 first addresses\n",
    "\n",
    "for address in address_list[:10]:\n",
    "    print(\", \".join(address[1:4]))"
   ]
  },
  {
   "cell_type": "markdown",
   "id": "ebad023f",
   "metadata": {},
   "source": [
    "## 3. Récupération des coordonnées de chaque adresse via API\n",
    "\n",
    "Ici l'API que l'on devait normalement utiliser (Nominatim) produit un grand nombre d'erreurs (i.e. elle n'arrive pas à retrouver beaucoup d'addresses). J'ai donc utilisé une autre API par la suite mais commençons d'abord par Nominatim."
   ]
  },
  {
   "cell_type": "markdown",
   "id": "c16ca7a4",
   "metadata": {},
   "source": [
    "### 3.1 Avec l'API Nominatim"
   ]
  },
  {
   "cell_type": "code",
   "execution_count": 7,
   "id": "1cad1016",
   "metadata": {},
   "outputs": [
    {
     "name": "stderr",
     "output_type": "stream",
     "text": [
      "100% |########################################################################|\r"
     ]
    },
    {
     "name": "stdout",
     "output_type": "stream",
     "text": [
      "100\n"
     ]
    },
    {
     "name": "stderr",
     "output_type": "stream",
     "text": [
      "\n"
     ]
    }
   ],
   "source": [
    "api_endpoint_1 = \"https://nominatim.openstreetmap.org/search\"\n",
    "\n",
    "pbar = ProgressBar()\n",
    "errors = []\n",
    "for address in pbar(address_list):\n",
    "\n",
    "    address_query = ' '.join(list(address)[1:4])\n",
    "    address_query = address_query.lower()\n",
    "    address_id = address[0]\n",
    "    params = {'q': address_query, 'format': 'json'}\n",
    "    response = requests.get(url=api_endpoint_1, params=params)\n",
    "\n",
    "    # Check if an address is found by the API, if not add the address to the errors list\n",
    "    if len(eval(response.text)) < 1:\n",
    "        errors.append(address)\n",
    "\n",
    "print(len(errors))  # 100 errors with this API"
   ]
  },
  {
   "cell_type": "markdown",
   "id": "8bbefbff",
   "metadata": {},
   "source": [
    "La liste \"errors\" contient la liste des adresses qui n'ont pas été retrouvées par l'API, il y en a donc 100 ici. "
   ]
  },
  {
   "cell_type": "code",
   "execution_count": 12,
   "id": "36043e1c",
   "metadata": {},
   "outputs": [
    {
     "name": "stdout",
     "output_type": "stream",
     "text": [
      "35 AV DU 159EME RIA, BRIANCON, 5100\n",
      "35 RUE PORTE ST JEAN, ORLEANS, 45000\n",
      "117 RUE DES CHARMETTES, LYON 6EME, 69006\n",
      "5 PL MARCEL PAGNOL, SAINT-NAZAIRE, 44600\n",
      "2 RTE DU MOULIN, LES HAYS, 39120\n"
     ]
    }
   ],
   "source": [
    "# Print 5 first missing addresses\n",
    "\n",
    "for error in errors[:5]:\n",
    "    print(\", \".join(error[1:4]))"
   ]
  },
  {
   "cell_type": "markdown",
   "id": "64e82ffb",
   "metadata": {},
   "source": [
    "### 3.2 Avec une autre API"
   ]
  },
  {
   "cell_type": "code",
   "execution_count": 9,
   "id": "9f0be897",
   "metadata": {},
   "outputs": [
    {
     "name": "stderr",
     "output_type": "stream",
     "text": [
      "100% |########################################################################|\r"
     ]
    },
    {
     "name": "stdout",
     "output_type": "stream",
     "text": [
      "1\n"
     ]
    },
    {
     "name": "stderr",
     "output_type": "stream",
     "text": [
      "\n"
     ]
    }
   ],
   "source": [
    "api_endpoint_2 = \"https://api-adresse.data.gouv.fr/search/\"\n",
    "pbar = ProgressBar()\n",
    "errors_2 = []\n",
    "coordinates = []\n",
    "\n",
    "for address in pbar(address_list):\n",
    "\n",
    "    # Set up the queries to give to the API\n",
    "    address_query = ' '.join(list(address)[1:4])\n",
    "    address_query = address_query.lower()\n",
    "    address_id = address[0]\n",
    "\n",
    "    # Set up the API call\n",
    "    params = {'q': address_query, 'format': 'json'}\n",
    "    response = requests.get(url=api_endpoint_2, params=params)\n",
    "\n",
    "    # Get API call result\n",
    "    result = response.json()['features']\n",
    "\n",
    "    # If results not found\n",
    "    if len(result) < 1:\n",
    "        errors_2.append(address_query)\n",
    "        coordinates.append([address_id, 'NULL', 'NULL'])\n",
    "\n",
    "    # If results found get the coordinates\n",
    "    else:\n",
    "        lat = result[0]['geometry']['coordinates'][0]\n",
    "        long = result[0]['geometry']['coordinates'][1]\n",
    "        coordinates.append([address_id, lat, long])\n",
    "\n",
    "print(len(errors_2))  # Plus qu'une seule erreur avec cette API\n"
   ]
  },
  {
   "cell_type": "code",
   "execution_count": 10,
   "id": "1d7f9456",
   "metadata": {},
   "outputs": [
    {
     "data": {
      "text/plain": [
       "['28 lot mont vernon i saint martin 97150']"
      ]
     },
     "execution_count": 10,
     "metadata": {},
     "output_type": "execute_result"
    }
   ],
   "source": [
    "errors_2"
   ]
  },
  {
   "cell_type": "markdown",
   "id": "2011143e",
   "metadata": {},
   "source": [
    "Ici il n'y a plus qu'une seule adresse non retrouvée. J'aurais pu insérer manuellement les coordonées pour cette adresse mais je vais plutôt laisser les valeurs NULL car j'imagine que c'est ce que je ferais en production."
   ]
  },
  {
   "cell_type": "markdown",
   "id": "00c00c21",
   "metadata": {},
   "source": [
    "## 4. Insertion des coordonnées dans la base de donnée"
   ]
  },
  {
   "cell_type": "code",
   "execution_count": null,
   "id": "d96742a8",
   "metadata": {},
   "outputs": [],
   "source": [
    "\n",
    "# Create the columns\n",
    "query_1 = \"ALTER TABLE address ADD latitude DECIMAL(8,5);\"\n",
    "query_2 = \"ALTER TABLE address ADD longitude DECIMAL(8,5);\"\n",
    "\n",
    "with mysql.connector.connect(**connection_params) as db:\n",
    "    with db.cursor() as c:\n",
    "        c.execute(query_1)\n",
    "        c.execute(query_2)\n",
    "\n",
    "\n",
    "# Fill the columns\n",
    "with mysql.connector.connect(**connection_params) as db:\n",
    "    with db.cursor() as c:\n",
    "        for coord in coordinates:\n",
    "\n",
    "            # If the address wasn't found by the API, set NULL value\n",
    "            if coord[1] == 'NULL':\n",
    "                query = f\"UPDATE address SET latitude = NULL, longitude = NULL WHERE address_id = {int(coord[0])}\"\n",
    "                print(query)\n",
    "                c.execute(query)\n",
    "\n",
    "            else:\n",
    "                query = f\"UPDATE address SET latitude = {round(coord[1],5)}, longitude = {round(coord[2],5)}\" \\\n",
    "                        f\" WHERE address_id = {int(coord[0])}\"\n",
    "                print(query)\n",
    "                c.execute(query)\n",
    "        db.commit()"
   ]
  },
  {
   "cell_type": "markdown",
   "id": "5f98541b",
   "metadata": {},
   "source": [
    "### 5. Qui a fait le plus de location ? "
   ]
  },
  {
   "cell_type": "code",
   "execution_count": 11,
   "id": "07c2fa17",
   "metadata": {},
   "outputs": [
    {
     "name": "stdout",
     "output_type": "stream",
     "text": [
      "SELECT c.first_name, c.last_name, a.address_id, a.address, a.latitude,          a.longitude,  COUNT(r.rental_id) as count_rent\t         FROM customer AS c          JOIN address as a USING(address_id)          JOIN rental as r USING(customer_id)          GROUP BY c.customer_id          ORDER BY count_rent DESC          LIMIT 1\n"
     ]
    },
    {
     "data": {
      "text/html": [
       "<div>\n",
       "<style scoped>\n",
       "    .dataframe tbody tr th:only-of-type {\n",
       "        vertical-align: middle;\n",
       "    }\n",
       "\n",
       "    .dataframe tbody tr th {\n",
       "        vertical-align: top;\n",
       "    }\n",
       "\n",
       "    .dataframe thead th {\n",
       "        text-align: right;\n",
       "    }\n",
       "</style>\n",
       "<table border=\"1\" class=\"dataframe\">\n",
       "  <thead>\n",
       "    <tr style=\"text-align: right;\">\n",
       "      <th></th>\n",
       "      <th>first_name</th>\n",
       "      <th>last_name</th>\n",
       "      <th>address_id</th>\n",
       "      <th>address</th>\n",
       "      <th>latitude</th>\n",
       "      <th>longitude</th>\n",
       "      <th>count_rent</th>\n",
       "    </tr>\n",
       "  </thead>\n",
       "  <tbody>\n",
       "    <tr>\n",
       "      <th>0</th>\n",
       "      <td>ELEANOR</td>\n",
       "      <td>HUNT</td>\n",
       "      <td>152</td>\n",
       "      <td>17 IMP DES JARDINS</td>\n",
       "      <td>5.96634</td>\n",
       "      <td>46.10690</td>\n",
       "      <td>46</td>\n",
       "    </tr>\n",
       "  </tbody>\n",
       "</table>\n",
       "</div>"
      ],
      "text/plain": [
       "  first_name last_name  address_id             address latitude longitude  \\\n",
       "0    ELEANOR      HUNT         152  17 IMP DES JARDINS  5.96634  46.10690   \n",
       "\n",
       "   count_rent  \n",
       "0          46  "
      ]
     },
     "execution_count": 11,
     "metadata": {},
     "output_type": "execute_result"
    }
   ],
   "source": [
    "query = \"SELECT c.first_name, c.last_name, a.address_id, a.address, a.latitude, \\\n",
    "         a.longitude,  COUNT(r.rental_id) as count_rent\t\\\n",
    "         FROM customer AS c \\\n",
    "         JOIN address as a USING(address_id) \\\n",
    "         JOIN rental as r USING(customer_id) \\\n",
    "         GROUP BY c.customer_id \\\n",
    "         ORDER BY count_rent DESC \\\n",
    "         LIMIT 1\"\n",
    "\n",
    "with mysql.connector.connect(**connection_params) as db:\n",
    "    with db.cursor(buffered=True) as c:\n",
    "        print(query)\n",
    "        c.execute(query)\n",
    "        df = DataFrame(c.fetchall())\n",
    "        df.columns = c.column_names\n",
    "\n",
    "df.head()\n",
    "\n"
   ]
  },
  {
   "cell_type": "markdown",
   "id": "ced9fb5d",
   "metadata": {},
   "source": [
    "La personne ayant fait le plus de location est Madame Eleanor Hunt avec 46 locations"
   ]
  }
 ],
 "metadata": {
  "kernelspec": {
   "display_name": "Python 3 (ipykernel)",
   "language": "python",
   "name": "python3"
  },
  "language_info": {
   "codemirror_mode": {
    "name": "ipython",
    "version": 3
   },
   "file_extension": ".py",
   "mimetype": "text/x-python",
   "name": "python",
   "nbconvert_exporter": "python",
   "pygments_lexer": "ipython3",
   "version": "3.9.6"
  }
 },
 "nbformat": 4,
 "nbformat_minor": 5
}
